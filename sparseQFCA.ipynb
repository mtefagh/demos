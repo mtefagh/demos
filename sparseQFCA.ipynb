{
 "cells": [
  {
   "cell_type": "code",
   "execution_count": 1,
   "metadata": {},
   "outputs": [
    {
     "name": "stderr",
     "output_type": "stream",
     "text": [
      "┌ Info: Recompiling stale cache file C:\\Users\\mtefa\\.julia\\compiled\\v1.0\\sparseQFCA\\Q0hmV.ji for sparseQFCA [47e41d82-2d4b-11e9-01da-5b8950e38350]\n",
      "└ @ Base loading.jl:1190\n"
     ]
    },
    {
     "name": "stdout",
     "output_type": "stream",
     "text": [
      "  2.698186 seconds (29.77 M allocations: 790.907 MiB, 11.91% gc time)\n",
      "961.782199 seconds (3.19 G allocations: 411.142 GiB, 12.86% gc time)\n",
      "The answer is correct.\n",
      "The answer is correct.\n"
     ]
    }
   ],
   "source": [
    "# importing the example model and the sparseQFCA module\n",
    "using sparseQFCA, JSON, SparseArrays, DelimitedFiles\n",
    "@time open(\"iMM1415.json\") do f\n",
    "    dict = JSON.parse(f);\n",
    "    data = dict[\"reactions\"];\n",
    "    global name = [(data[i])[\"name\"] for i in 1:length(data)];\n",
    "    global lower_bound = [(data[i])[\"lower_bound\"] for i in 1:length(data)];\n",
    "    global upper_bound = [(data[i])[\"upper_bound\"] for i in 1:length(data)];\n",
    "    global gene_reaction_rule = [(data[i])[\"gene_reaction_rule\"] for i in 1:length(data)];\n",
    "    metabolites = [(data[i])[\"metabolites\"] for i in 1:length(data)];\n",
    "    id = [((dict[\"metabolites\"])[i])[\"id\"] for i in 1:length(dict[\"metabolites\"])];\n",
    "    S = Matrix{Float64}(undef, length(id), length(metabolites));\n",
    "    for i in 1:length(metabolites)\n",
    "        for j in 1:length(id)\n",
    "            S[j, i] = get(metabolites[i], id[j], 0)\n",
    "        end\n",
    "    end\n",
    "    global S = sparse(S);\n",
    "end\n",
    "@assert typeof(S) == SparseMatrixCSC{Float64,Int64}\n",
    "rev = readdlm(\"rev.csv\", header = false)[:, 1] .== 1\n",
    "@assert typeof(rev) == BitArray{1}\n",
    "# finding all the flux coupling relations among the reactions\n",
    "certificates, blocked, fctable = @time QFCA(S, rev)\n",
    "println(\"The answer is $(all((readdlm(\"blocked.csv\", header = false) .== 1) .== blocked) ? \"correct\" : \"wrong\").\")\n",
    "println(\"The answer is $(all(readdlm(\"fctable.csv\", header = false) .== fctable) ? \"correct\" : \"wrong\").\")\n",
    "open(\"certificates.txt\", \"w\") do io\n",
    "    writedlm(io, certificates)\n",
    "end"
   ]
  }
 ],
 "metadata": {
  "kernelspec": {
   "display_name": "Julia 1.0.3",
   "language": "julia",
   "name": "julia-1.0"
  },
  "language_info": {
   "file_extension": ".jl",
   "mimetype": "application/julia",
   "name": "julia",
   "version": "1.0.3"
  }
 },
 "nbformat": 4,
 "nbformat_minor": 2
}
