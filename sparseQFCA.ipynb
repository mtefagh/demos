{
 "cells": [
  {
   "cell_type": "code",
   "execution_count": 1,
   "metadata": {},
   "outputs": [
    {
     "name": "stderr",
     "output_type": "stream",
     "text": [
      "┌ Info: Recompiling stale cache file C:\\Users\\mtefa\\.julia\\compiled\\v1.0\\sparseQFCA\\Q0hmV.ji for sparseQFCA [47e41d82-2d4b-11e9-01da-5b8950e38350]\n",
      "└ @ Base loading.jl:1190\n"
     ]
    },
    {
     "name": "stdout",
     "output_type": "stream",
     "text": [
      "804.652040 seconds (2.98 G allocations: 326.235 GiB, 13.83% gc time)\n",
      "The answer is correct.\n",
      "The answer is correct.\n"
     ]
    }
   ],
   "source": [
    "# importing the example model and the sparseQFCA module\n",
    "using sparseQFCA, SparseArrays, DelimitedFiles\n",
    "S = sparse(readdlm(\"S.csv\", header = false))\n",
    "@assert typeof(S) == SparseMatrixCSC{Float64,Int64}\n",
    "rev = readdlm(\"rev.csv\", header = false)[:, 1] .== 1\n",
    "@assert typeof(rev) == BitArray{1}\n",
    "# finding all the flux coupling relations among the reactions\n",
    "certificates, blocked, fctable = @time QFCA(S, rev)\n",
    "println(\"The answer is $(all((readdlm(\"blocked.csv\", header = false) .== 1) .== blocked) ? \"correct\" : \"wrong\").\")\n",
    "println(\"The answer is $(all(readdlm(\"fctable.csv\", header = false) .== fctable) ? \"correct\" : \"wrong\").\")\n",
    "open(\"certificates.txt\", \"w\") do io\n",
    "    writedlm(io, certificates)\n",
    "end"
   ]
  }
 ],
 "metadata": {
  "kernelspec": {
   "display_name": "Julia 1.0.3",
   "language": "julia",
   "name": "julia-1.0"
  },
  "language_info": {
   "file_extension": ".jl",
   "mimetype": "application/julia",
   "name": "julia",
   "version": "1.0.3"
  }
 },
 "nbformat": 4,
 "nbformat_minor": 2
}
