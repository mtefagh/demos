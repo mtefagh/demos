{
 "cells": [
  {
   "cell_type": "code",
   "execution_count": 1,
   "metadata": {},
   "outputs": [
    {
     "name": "stdout",
     "output_type": "stream",
     "text": [
      "650.235131 seconds (998.79 M allocations: 204.608 GiB, 11.48% gc time)\n"
     ]
    }
   ],
   "source": [
    "# importing the example model and the sparseQFCA module\n",
    "include(\"../src/sparseQFCA.jl\")\n",
    "using .sparseQFCA, SparseArrays, DelimitedFiles\n",
    "S = sparse(readdlm(\"S1.csv\", header = false))\n",
    "@assert typeof(S) == SparseMatrixCSC{Float64,Int64}\n",
    "rev = readdlm(\"rev2.csv\", header = false)[:, 1] .== 1\n",
    "@assert typeof(rev) == BitArray{1}\n",
    "# finding all the flux coupling relations among the reactions\n",
    "certificates, blocked, fctable = @time QFCA(S, rev)\n",
    "#println(\"The answer is $(all((readdlm(\"blocked.csv\", header = false) .== 1) .== blocked) ? \"correct\" : \"wrong\").\")\n",
    "#println(\"The answer is $(all(readdlm(\"fctable.csv\", header = false) .== fctable) ? \"correct\" : \"wrong\").\")\n",
    "open(\"certificates.txt\", \"w\") do io\n",
    "    writedlm(io, certificates)\n",
    "end"
   ]
  },
  {
   "cell_type": "code",
   "execution_count": null,
   "metadata": {},
   "outputs": [],
   "source": []
  }
 ],
 "metadata": {
  "kernelspec": {
   "display_name": "Julia 1.0.3",
   "language": "julia",
   "name": "julia-1.0"
  },
  "language_info": {
   "file_extension": ".jl",
   "mimetype": "application/julia",
   "name": "julia",
   "version": "1.0.3"
  }
 },
 "nbformat": 4,
 "nbformat_minor": 2
}
